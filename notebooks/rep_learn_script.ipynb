{
 "cells": [
  {
   "cell_type": "markdown",
   "metadata": {},
   "source": [
    "# Use the structure and attribute to generate an embedding\n",
    "\n",
    "This notebook takes as inputs the adjacency lists generated from the OpenBEL graph and label maps, from the Open Targets database. It calcultates and compares the performance of the classifications after learning the embeddings using GAT2Vec using different hyperparameters.\n",
    "\n",
    "## Imports and definitions"
   ]
  },
  {
   "cell_type": "code",
   "execution_count": 7,
   "metadata": {},
   "outputs": [],
   "source": [
    "import warnings\n",
    "\n",
    "from GAT2VEC.evaluation.classification import Classification\n",
    "from GAT2VEC.gat2vec import Gat2Vec\n",
    "from guiltytargets.constants import gat2vec_config\n",
    "import pandas as pd\n",
    "from ppi_network_annotation.parsers import parse_gene_list\n",
    "\n",
    "from guilty_phewas import utils\n",
    "\n",
    "dir_ = \"/home/mau/Uni/Thesis/gat2vecdemo/GAT2VEC/data/M10\"\n",
    "dir_ = \"/home/mau/Uni/Thesis/tau\"\n",
    "dir_ = \"C:/Users/Mauricio/Thesis/bel_data/alzh2\"  # windows\n",
    "dir_ = \"C:/Users/Mauricio/Thesis/bel_data/alzh\"  # windows\n",
    "\n",
    "# Ignore warnings\n",
    "warnings.simplefilter('ignore')"
   ]
  },
  {
   "cell_type": "markdown",
   "metadata": {},
   "source": [
    "## Optimizing the hyperparameters\n",
    "\n",
    "### The default parameters used in GuiltyTargets"
   ]
  },
  {
   "cell_type": "code",
   "execution_count": 2,
   "metadata": {},
   "outputs": [
    {
     "name": "stdout",
     "output_type": "stream",
     "text": [
      "Default parameters:\n",
      "num_walks 10\n",
      "walk_length 80\n",
      "dimension 128\n",
      "window_size 5\n",
      "\n"
     ]
    }
   ],
   "source": [
    "print(\"Default parameters:\")\n",
    "print(f'num_walks {gat2vec_config.num_walks}\\n'\n",
    "      f'walk_length {gat2vec_config.walk_length}\\n'\n",
    "      f'dimension {gat2vec_config.dimension}\\n'\n",
    "      f'window_size {gat2vec_config.window_size}\\n')"
   ]
  },
  {
   "cell_type": "markdown",
   "metadata": {},
   "source": [
    "### Training using the default parameters"
   ]
  },
  {
   "cell_type": "code",
   "execution_count": 8,
   "metadata": {},
   "outputs": [
    {
     "name": "stdout",
     "output_type": "stream",
     "text": [
      "Initializing gat2vec\n",
      "loading structural graph\n",
      "C:/Users/Mauricio/Thesis/bel_data/alzh\\alzh_graph.adjlist\n",
      "Number of nodes: 20720\n",
      "loading attribute graph\n",
      "C:/Users/Mauricio/Thesis/bel_data/alzh\\alzh_na.adjlist\n",
      "Number of nodes: 20720\n",
      "Random Walks on Structural Graph\n",
      "Random Walks on Attribute Graph\n",
      "Learning Representation\n",
      "Learned Representation Saved\n",
      "Training Finished\n"
     ]
    }
   ],
   "source": [
    "g2v = Gat2Vec(dir_, dir_, label=False, tr=gat2vec_config.training_ratio)\n",
    "\n",
    "model = g2v.train_gat2vec(\n",
    "        gat2vec_config.num_walks,\n",
    "        gat2vec_config.walk_length,\n",
    "        gat2vec_config.dimension,\n",
    "        gat2vec_config.window_size,\n",
    "        output=True,\n",
    "    )\n",
    "classifier = Classification(dir_, dir_, tr=gat2vec_config.training_ratio)\n",
    "auc_df = classifier.evaluate(model, label=False, evaluation_scheme=\"cv\")"
   ]
  },
  {
   "cell_type": "code",
   "execution_count": 9,
   "metadata": {
    "scrolled": true
   },
   "outputs": [
    {
     "name": "stdout",
     "output_type": "stream",
     "text": [
      "#### Initial values ####\n",
      "    accuracy   f1micro   f1macro       auc\n",
      "TR                                        \n",
      "0   0.993822  0.993822  0.498451  0.691987\n",
      "1   0.993822  0.993822  0.498451  0.673563\n",
      "2   0.993822  0.993822  0.498451  0.688629\n",
      "3   0.993822  0.993822  0.498451  0.673782\n",
      "4   0.993822  0.993822  0.498451  0.689053\n",
      "5   0.993822  0.993822  0.498451  0.669909\n",
      "6   0.993822  0.993822  0.498451  0.669445\n",
      "7   0.993822  0.993822  0.498451  0.674500\n",
      "8   0.993822  0.993822  0.498451  0.669651\n",
      "9   0.993822  0.993822  0.498451  0.687887\n"
     ]
    }
   ],
   "source": [
    "print(f\"#### Initial values ####\")\n",
    "print(auc_df)"
   ]
  },
  {
   "cell_type": "markdown",
   "metadata": {},
   "source": [
    "### Optimizing Number of Walks"
   ]
  },
  {
   "cell_type": "code",
   "execution_count": 10,
   "metadata": {},
   "outputs": [
    {
     "name": "stdout",
     "output_type": "stream",
     "text": [
      "Initializing gat2vec\n",
      "loading structural graph\n",
      "C:/Users/Mauricio/Thesis/bel_data/alzh\\alzh_graph.adjlist\n",
      "Number of nodes: 20720\n",
      "loading attribute graph\n",
      "C:/Users/Mauricio/Thesis/bel_data/alzh\\alzh_na.adjlist\n",
      "Number of nodes: 20720\n",
      "# Training num walks 2\n",
      "Random Walks on Structural Graph\n",
      "Random Walks on Attribute Graph\n",
      "Learning Representation\n",
      "Learned Representation Saved\n",
      "Training Finished\n",
      "# Training num walks 5\n",
      "Random Walks on Structural Graph\n",
      "Random Walks on Attribute Graph\n",
      "Learning Representation\n",
      "Learned Representation Saved\n",
      "Training Finished\n",
      "# Training num walks 10\n",
      "Random Walks on Structural Graph\n",
      "Random Walks on Attribute Graph\n",
      "Learning Representation\n",
      "Learned Representation Saved\n",
      "Training Finished\n",
      "# Training num walks 20\n",
      "Random Walks on Structural Graph\n",
      "Random Walks on Attribute Graph\n",
      "Learning Representation\n",
      "Learned Representation Saved\n",
      "Training Finished\n",
      "# Training num walks 30\n",
      "Random Walks on Structural Graph\n",
      "Random Walks on Attribute Graph\n",
      "Learning Representation\n",
      "Learned Representation Saved\n",
      "Training Finished\n",
      "# Training num walks 40\n",
      "Random Walks on Structural Graph\n",
      "Random Walks on Attribute Graph\n",
      "Learning Representation\n",
      "Learned Representation Saved\n",
      "Training Finished\n"
     ]
    }
   ],
   "source": [
    "g2v = Gat2Vec(dir_, dir_, label=False, tr=gat2vec_config.training_ratio)\n",
    "\n",
    "optmization = pd.DataFrame()\n",
    "num_walks_list = [2, 5, gat2vec_config.num_walks, 20, 30, 40]\n",
    "\n",
    "for nw in num_walks_list:\n",
    "    print(f'# Training num walks {nw}')\n",
    "    model = g2v.train_gat2vec(\n",
    "            nw,\n",
    "            gat2vec_config.walk_length,\n",
    "            gat2vec_config.dimension,\n",
    "            gat2vec_config.window_size,\n",
    "            output=True,\n",
    "        )\n",
    "    classifier = Classification(dir_, dir_, tr=gat2vec_config.training_ratio)\n",
    "    auc_df = classifier.evaluate(model, label=False, evaluation_scheme=\"cv\")\n",
    "    optmization.loc[:, f'num_walks {nw}'] = auc_df['auc']"
   ]
  },
  {
   "cell_type": "code",
   "execution_count": 16,
   "metadata": {
    "scrolled": false
   },
   "outputs": [
    {
     "data": {
      "image/png": "[encoded data removed]",
      "text/plain": [
       "<Figure size 1080x576 with 1 Axes>"
      ]
     },
     "metadata": {
      "needs_background": "light"
     },
     "output_type": "display_data"
    }
   ],
   "source": [
    "optmization.boxplot(figsize=[15, 8]);"
   ]
  },
  {
   "cell_type": "markdown",
   "metadata": {},
   "source": [
    "### Optimizing Walk Length"
   ]
  },
  {
   "cell_type": "code",
   "execution_count": 17,
   "metadata": {
    "scrolled": true
   },
   "outputs": [
    {
     "name": "stdout",
     "output_type": "stream",
     "text": [
      "Initializing gat2vec\n",
      "loading structural graph\n",
      "C:/Users/Mauricio/Thesis/bel_data/alzh\\alzh_graph.adjlist\n",
      "Number of nodes: 20720\n",
      "loading attribute graph\n",
      "C:/Users/Mauricio/Thesis/bel_data/alzh\\alzh_na.adjlist\n",
      "Number of nodes: 20720\n",
      "# Training walk length 4\n",
      "Random Walks on Structural Graph\n",
      "Random Walks on Attribute Graph\n",
      "Learning Representation\n",
      "Learned Representation Saved\n",
      "Training Finished\n",
      "# Training walk length 20\n",
      "Random Walks on Structural Graph\n",
      "Random Walks on Attribute Graph\n",
      "Learning Representation\n",
      "Learned Representation Saved\n",
      "Training Finished\n",
      "# Training walk length 40\n",
      "Random Walks on Structural Graph\n",
      "Random Walks on Attribute Graph\n",
      "Learning Representation\n",
      "Learned Representation Saved\n",
      "Training Finished\n",
      "# Training walk length 80\n",
      "Random Walks on Structural Graph\n",
      "Random Walks on Attribute Graph\n",
      "Learning Representation\n",
      "Learned Representation Saved\n",
      "Training Finished\n",
      "# Training walk length 120\n",
      "Random Walks on Structural Graph\n",
      "Random Walks on Attribute Graph\n",
      "Learning Representation\n",
      "Learned Representation Saved\n",
      "Training Finished\n",
      "# Training walk length 160\n",
      "Random Walks on Structural Graph\n",
      "Random Walks on Attribute Graph\n",
      "Learning Representation\n",
      "Learned Representation Saved\n",
      "Training Finished\n"
     ]
    }
   ],
   "source": [
    "g2v = Gat2Vec(dir_, dir_, label=False, tr=gat2vec_config.training_ratio)\n",
    "\n",
    "num_walks = 30\n",
    "walk_length_list = [4, 20, 40, gat2vec_config.walk_length, 120, 160]\n",
    "\n",
    "optmization = pd.DataFrame()\n",
    "\n",
    "for wl in walk_length_list:\n",
    "    print(f'# Training walk length {wl}')\n",
    "    model = g2v.train_gat2vec(\n",
    "            num_walks,\n",
    "            wl,\n",
    "            gat2vec_config.dimension,\n",
    "            gat2vec_config.window_size,\n",
    "            output=True,\n",
    "        )\n",
    "    classifier = Classification(dir_, dir_, tr=gat2vec_config.training_ratio)\n",
    "    auc_df = classifier.evaluate(model, label=False, evaluation_scheme=\"cv\")\n",
    "    optmization.loc[:, f'walk_length {wl}'] = auc_df['auc']"
   ]
  },
  {
   "cell_type": "code",
   "execution_count": 18,
   "metadata": {
    "scrolled": false
   },
   "outputs": [
    {
     "data": {
      "image/png": "[encoded data removed]",
      "text/plain": [
       "<Figure size 1080x576 with 1 Axes>"
      ]
     },
     "metadata": {
      "needs_background": "light"
     },
     "output_type": "display_data"
    }
   ],
   "source": [
    "# using nw = 30\n",
    "optmization.boxplot(figsize=[15, 8]);"
   ]
  },
  {
   "cell_type": "code",
   "execution_count": 19,
   "metadata": {},
   "outputs": [
    {
     "name": "stdout",
     "output_type": "stream",
     "text": [
      "Initializing gat2vec\n",
      "loading structural graph\n",
      "C:/Users/Mauricio/Thesis/bel_data/alzh\\alzh_graph.adjlist\n",
      "Number of nodes: 20720\n",
      "loading attribute graph\n",
      "C:/Users/Mauricio/Thesis/bel_data/alzh\\alzh_na.adjlist\n",
      "Number of nodes: 20720\n",
      "# Training walk length 4\n",
      "Random Walks on Structural Graph\n",
      "Random Walks on Attribute Graph\n",
      "Learning Representation\n",
      "Learned Representation Saved\n",
      "Training Finished\n",
      "# Training walk length 20\n",
      "Random Walks on Structural Graph\n",
      "Random Walks on Attribute Graph\n",
      "Learning Representation\n",
      "Learned Representation Saved\n",
      "Training Finished\n",
      "# Training walk length 40\n",
      "Random Walks on Structural Graph\n",
      "Random Walks on Attribute Graph\n",
      "Learning Representation\n",
      "Learned Representation Saved\n",
      "Training Finished\n",
      "# Training walk length 80\n",
      "Random Walks on Structural Graph\n",
      "Random Walks on Attribute Graph\n",
      "Learning Representation\n",
      "Learned Representation Saved\n",
      "Training Finished\n",
      "# Training walk length 120\n",
      "Random Walks on Structural Graph\n",
      "Random Walks on Attribute Graph\n",
      "Learning Representation\n",
      "Learned Representation Saved\n",
      "Training Finished\n",
      "# Training walk length 160\n",
      "Random Walks on Structural Graph\n",
      "Random Walks on Attribute Graph\n",
      "Learning Representation\n",
      "Learned Representation Saved\n",
      "Training Finished\n"
     ]
    }
   ],
   "source": [
    "g2v = Gat2Vec(dir_, dir_, label=False, tr=gat2vec_config.training_ratio)\n",
    "\n",
    "num_walks = 2\n",
    "# walk_length_list = [4, 20, 40, gat2vec_config.walk_length, 120, 160]\n",
    "\n",
    "optmization2 = pd.DataFrame()\n",
    "\n",
    "for wl in walk_length_list:\n",
    "    print(f'# Training walk length {wl}')\n",
    "    model = g2v.train_gat2vec(\n",
    "            num_walks,\n",
    "            wl,\n",
    "            gat2vec_config.dimension,\n",
    "            gat2vec_config.window_size,\n",
    "            output=True,\n",
    "        )\n",
    "    classifier = Classification(dir_, dir_, tr=gat2vec_config.training_ratio)\n",
    "    auc_df = classifier.evaluate(model, label=False, evaluation_scheme=\"cv\")\n",
    "    optmization.loc[:, f'nw 2 wl {wl}'] = auc_df['auc']\n",
    "    optmization2.loc[:, f'walk_length {wl}'] = auc_df['auc']"
   ]
  },
  {
   "cell_type": "code",
   "execution_count": 21,
   "metadata": {},
   "outputs": [
    {
     "data": {
      "image/png": "[encoded data removed]",
      "text/plain": [
       "<Figure size 1080x576 with 1 Axes>"
      ]
     },
     "metadata": {
      "needs_background": "light"
     },
     "output_type": "display_data"
    }
   ],
   "source": [
    "optmization2.boxplot(figsize=[15, 8]);"
   ]
  },
  {
   "cell_type": "code",
   "execution_count": 20,
   "metadata": {},
   "outputs": [
    {
     "data": {
      "image/png": "[encoded data removed]",
      "text/plain": [
       "<Figure size 1080x576 with 1 Axes>"
      ]
     },
     "metadata": {
      "needs_background": "light"
     },
     "output_type": "display_data"
    }
   ],
   "source": [
    "# comparing nw = 2 and nw = 30\n",
    "optmization.boxplot(figsize=[15, 8]);"
   ]
  },
  {
   "cell_type": "markdown",
   "metadata": {},
   "source": [
    "### Optimizing Window Size"
   ]
  },
  {
   "cell_type": "code",
   "execution_count": 24,
   "metadata": {},
   "outputs": [
    {
     "name": "stdout",
     "output_type": "stream",
     "text": [
      "Initializing gat2vec\n",
      "loading structural graph\n",
      "C:/Users/Mauricio/Thesis/bel_data/alzh\\alzh_graph.adjlist\n",
      "Number of nodes: 20720\n",
      "loading attribute graph\n",
      "C:/Users/Mauricio/Thesis/bel_data/alzh\\alzh_na.adjlist\n",
      "Number of nodes: 20720\n",
      "# Training window size 2\n",
      "Random Walks on Structural Graph\n",
      "Random Walks on Attribute Graph\n",
      "Learning Representation\n",
      "Learned Representation Saved\n",
      "Training Finished\n",
      "# Training window size 5\n",
      "Random Walks on Structural Graph\n",
      "Random Walks on Attribute Graph\n",
      "Learning Representation\n",
      "Learned Representation Saved\n",
      "Training Finished\n",
      "# Training window size 10\n",
      "Random Walks on Structural Graph\n",
      "Random Walks on Attribute Graph\n",
      "Learning Representation\n",
      "Learned Representation Saved\n",
      "Training Finished\n",
      "# Training window size 20\n",
      "Random Walks on Structural Graph\n",
      "Random Walks on Attribute Graph\n",
      "Learning Representation\n",
      "Learned Representation Saved\n",
      "Training Finished\n",
      "# Training window size 30\n",
      "Random Walks on Structural Graph\n",
      "Random Walks on Attribute Graph\n",
      "Learning Representation\n",
      "Learned Representation Saved\n",
      "Training Finished\n"
     ]
    }
   ],
   "source": [
    "g2v = Gat2Vec(dir_, dir_, label=False, tr=gat2vec_config.training_ratio)\n",
    "\n",
    "num_walks = 30\n",
    "walk_length = 4\n",
    "window_size_list = [2, gat2vec_config.window_size, 10, 20, 30]\n",
    "\n",
    "optmization = pd.DataFrame()\n",
    "\n",
    "for ws in window_size_list:\n",
    "    print(f'# Training window size {ws}')\n",
    "    model = g2v.train_gat2vec(\n",
    "            num_walks,\n",
    "            walk_length,\n",
    "            gat2vec_config.dimension,\n",
    "            ws,\n",
    "            output=True,\n",
    "        )\n",
    "    classifier = Classification(dir_, dir_, tr=gat2vec_config.training_ratio)\n",
    "    auc_df = classifier.evaluate(model, label=False, evaluation_scheme=\"cv\")\n",
    "    optmization.loc[:, f'window_size {ws}'] = auc_df['auc']"
   ]
  },
  {
   "cell_type": "code",
   "execution_count": 23,
   "metadata": {
    "scrolled": false
   },
   "outputs": [
    {
     "data": {
      "image/png": "[encoded data removed]",
      "text/plain": [
       "<Figure size 1080x576 with 1 Axes>"
      ]
     },
     "metadata": {
      "needs_background": "light"
     },
     "output_type": "display_data"
    }
   ],
   "source": [
    "# NW = 2\n",
    "optmization.boxplot(figsize=[15, 8]);"
   ]
  },
  {
   "cell_type": "code",
   "execution_count": 25,
   "metadata": {
    "scrolled": false
   },
   "outputs": [
    {
     "data": {
      "image/png": "[encoded data removed]",
      "text/plain": [
       "<Figure size 1080x576 with 1 Axes>"
      ]
     },
     "metadata": {
      "needs_background": "light"
     },
     "output_type": "display_data"
    }
   ],
   "source": [
    "# NW = 30\n",
    "optmization.boxplot(figsize=[15, 8]);"
   ]
  },
  {
   "cell_type": "markdown",
   "metadata": {},
   "source": [
    "### Optimizing Number of Dimensions"
   ]
  },
  {
   "cell_type": "code",
   "execution_count": 27,
   "metadata": {},
   "outputs": [
    {
     "name": "stdout",
     "output_type": "stream",
     "text": [
      "Initializing gat2vec\n",
      "loading structural graph\n",
      "C:/Users/Mauricio/Thesis/bel_data/alzh\\alzh_graph.adjlist\n",
      "Number of nodes: 20720\n",
      "loading attribute graph\n",
      "C:/Users/Mauricio/Thesis/bel_data/alzh\\alzh_na.adjlist\n",
      "Number of nodes: 20720\n",
      "# Training dimension 32\n",
      "Random Walks on Structural Graph\n",
      "Random Walks on Attribute Graph\n",
      "Learning Representation\n",
      "Learned Representation Saved\n",
      "Training Finished\n",
      "# Training dimension 64\n",
      "Random Walks on Structural Graph\n",
      "Random Walks on Attribute Graph\n",
      "Learning Representation\n",
      "Learned Representation Saved\n",
      "Training Finished\n",
      "# Training dimension 128\n",
      "Random Walks on Structural Graph\n",
      "Random Walks on Attribute Graph\n",
      "Learning Representation\n",
      "Learned Representation Saved\n",
      "Training Finished\n",
      "# Training dimension 256\n",
      "Random Walks on Structural Graph\n",
      "Random Walks on Attribute Graph\n",
      "Learning Representation\n",
      "Learned Representation Saved\n",
      "Training Finished\n",
      "# Training dimension 512\n",
      "Random Walks on Structural Graph\n",
      "Random Walks on Attribute Graph\n",
      "Learning Representation\n",
      "Learned Representation Saved\n",
      "Training Finished\n"
     ]
    }
   ],
   "source": [
    "g2v = Gat2Vec(dir_, dir_, label=False, tr=gat2vec_config.training_ratio)\n",
    "\n",
    "num_walks = 30\n",
    "walk_length = 4\n",
    "window_size = 10\n",
    "dimension_list = [32, 64, gat2vec_config.dimension, 256, 512]\n",
    "\n",
    "optmization = pd.DataFrame()\n",
    "\n",
    "for dim in dimension_list:\n",
    "    print(f'# Training dimension {dim}')\n",
    "    model = g2v.train_gat2vec(\n",
    "            num_walks,\n",
    "            walk_length,\n",
    "            dim,\n",
    "            window_size,\n",
    "            output=True,\n",
    "        )\n",
    "    classifier = Classification(dir_, dir_, tr=gat2vec_config.training_ratio)\n",
    "    auc_df = classifier.evaluate(model, label=False, evaluation_scheme=\"cv\")\n",
    "    optmization.loc[:, f'dimension {dim}'] = auc_df['auc']"
   ]
  },
  {
   "cell_type": "code",
   "execution_count": 28,
   "metadata": {
    "scrolled": false
   },
   "outputs": [
    {
     "data": {
      "image/png": "[encoded data removed]",
      "text/plain": [
       "<Figure size 1080x576 with 1 Axes>"
      ]
     },
     "metadata": {
      "needs_background": "light"
     },
     "output_type": "display_data"
    }
   ],
   "source": [
    "optmization.boxplot(figsize=[15, 8]);"
   ]
  },
  {
   "cell_type": "markdown",
   "metadata": {},
   "source": [
    "## Results after optimization"
   ]
  },
  {
   "cell_type": "code",
   "execution_count": null,
   "metadata": {
    "scrolled": true
   },
   "outputs": [],
   "source": [
    "g2v = Gat2Vec(dir_, dir_, label=False, tr=gat2vec_config.training_ratio)\n",
    "\n",
    "walk_length = 4\n",
    "num_walks = 30\n",
    "window_size = 10\n",
    "dimension = 256\n",
    "\n",
    "model = g2v.train_gat2vec(\n",
    "        num_walks,\n",
    "        walk_length,\n",
    "        dimension,\n",
    "        window_size,\n",
    "        output=True,\n",
    "    )\n",
    "classifier = Classification(dir_, dir_, tr=gat2vec_config.training_ratio)\n",
    "auc_df = classifier.evaluate(model, label=False, evaluation_scheme=\"cv\")\n",
    "print(auc_df)\n"
   ]
  },
  {
   "cell_type": "markdown",
   "metadata": {},
   "source": [
    "## Print the probabilities "
   ]
  },
  {
   "cell_type": "code",
   "execution_count": null,
   "metadata": {},
   "outputs": [],
   "source": [
    "probs_df = pd.DataFrame(classifier.get_prediction_probs_for_entire_set(model))\n",
    "\n",
    "print(probs_df)"
   ]
  },
  {
   "cell_type": "code",
   "execution_count": null,
   "metadata": {},
   "outputs": [],
   "source": []
  }
 ],
 "metadata": {
  "kernelspec": {
   "display_name": "Python 3",
   "language": "python",
   "name": "python3"
  },
  "language_info": {
   "codemirror_mode": {
    "name": "ipython",
    "version": 3
   },
   "file_extension": ".py",
   "mimetype": "text/x-python",
   "name": "python",
   "nbconvert_exporter": "python",
   "pygments_lexer": "ipython3",
   "version": "3.6.6"
  }
 },
 "nbformat": 4,
 "nbformat_minor": 2
}
