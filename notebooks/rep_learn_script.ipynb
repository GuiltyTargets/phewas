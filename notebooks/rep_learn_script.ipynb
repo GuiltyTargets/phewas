{
 "cells": [
  {
   "cell_type": "markdown",
   "metadata": {},
   "source": [
    "# Use the structure and attribute to generate an embedding"
   ]
  },
  {
   "cell_type": "code",
   "execution_count": 3,
   "metadata": {},
   "outputs": [],
   "source": [
    "from GAT2VEC.evaluation.classification import Classification\n",
    "from GAT2VEC.gat2vec import Gat2Vec\n",
    "from guiltytargets.constants import gat2vec_config\n",
    "import pandas as pd\n",
    "from ppi_network_annotation.parsers import parse_gene_list\n",
    "\n",
    "from guilty_phewas import utils\n",
    "\n",
    "dir_ = \"/home/mau/Uni/Thesis/gat2vecdemo/GAT2VEC/data/M10\"\n",
    "dir_ = \"/home/mau/Uni/Thesis/tau\"\n",
    "dir_ = \"C:/Users/Mauricio/Thesis/bel_data/alzh\"  # windows"
   ]
  },
  {
   "cell_type": "markdown",
   "metadata": {},
   "source": [
    "## Train the model with the given parameters"
   ]
  },
  {
   "cell_type": "code",
   "execution_count": 4,
   "metadata": {},
   "outputs": [
    {
     "name": "stdout",
     "output_type": "stream",
     "text": [
      "Initializing gat2vec\n",
      "loading structural graph\n",
      "C:/Users/Mauricio/Thesis/bel_data/alzh\\alzh_graph.adjlist\n",
      "Number of nodes: 20720\n",
      "loading attribute graph\n",
      "C:/Users/Mauricio/Thesis/bel_data/alzh\\alzh_na.adjlist\n",
      "Number of nodes: 20720\n",
      "Random Walks on Structural Graph\n",
      "Random Walks on Attribute Graph\n",
      "Learning Representation\n",
      "Learned Representation Saved\n"
     ]
    }
   ],
   "source": [
    "g2v = Gat2Vec(dir_, dir_, label=False, tr=gat2vec_config.training_ratio)\n",
    "\n",
    "model = g2v.train_gat2vec(\n",
    "        gat2vec_config.num_walks,\n",
    "        gat2vec_config.walk_length,\n",
    "        gat2vec_config.dimension,\n",
    "        gat2vec_config.window_size,\n",
    "        output=True,\n",
    "    )"
   ]
  },
  {
   "cell_type": "markdown",
   "metadata": {},
   "source": [
    "## Use cross validation to check the classification."
   ]
  },
  {
   "cell_type": "code",
   "execution_count": 6,
   "metadata": {},
   "outputs": [
    {
     "name": "stderr",
     "output_type": "stream",
     "text": [
      "C:\\Users\\Mauricio\\Anaconda3\\lib\\site-packages\\sklearn\\metrics\\classification.py:1135: UndefinedMetricWarning: F-score is ill-defined and being set to 0.0 in labels with no predicted samples.\n",
      "  'precision', 'predicted', average, warn_for)\n",
      "C:\\Users\\Mauricio\\Anaconda3\\lib\\site-packages\\sklearn\\metrics\\classification.py:1135: UndefinedMetricWarning: F-score is ill-defined and being set to 0.0 in labels with no predicted samples.\n",
      "  'precision', 'predicted', average, warn_for)\n",
      "C:\\Users\\Mauricio\\Anaconda3\\lib\\site-packages\\sklearn\\metrics\\classification.py:1135: UndefinedMetricWarning: F-score is ill-defined and being set to 0.0 in labels with no predicted samples.\n",
      "  'precision', 'predicted', average, warn_for)\n",
      "C:\\Users\\Mauricio\\Anaconda3\\lib\\site-packages\\sklearn\\metrics\\classification.py:1135: UndefinedMetricWarning: F-score is ill-defined and being set to 0.0 in labels with no predicted samples.\n",
      "  'precision', 'predicted', average, warn_for)\n",
      "C:\\Users\\Mauricio\\Anaconda3\\lib\\site-packages\\sklearn\\metrics\\classification.py:1135: UndefinedMetricWarning: F-score is ill-defined and being set to 0.0 in labels with no predicted samples.\n",
      "  'precision', 'predicted', average, warn_for)\n",
      "C:\\Users\\Mauricio\\Anaconda3\\lib\\site-packages\\sklearn\\metrics\\classification.py:1135: UndefinedMetricWarning: F-score is ill-defined and being set to 0.0 in labels with no predicted samples.\n",
      "  'precision', 'predicted', average, warn_for)\n",
      "C:\\Users\\Mauricio\\Anaconda3\\lib\\site-packages\\sklearn\\metrics\\classification.py:1135: UndefinedMetricWarning: F-score is ill-defined and being set to 0.0 in labels with no predicted samples.\n",
      "  'precision', 'predicted', average, warn_for)\n",
      "C:\\Users\\Mauricio\\Anaconda3\\lib\\site-packages\\sklearn\\metrics\\classification.py:1135: UndefinedMetricWarning: F-score is ill-defined and being set to 0.0 in labels with no predicted samples.\n",
      "  'precision', 'predicted', average, warn_for)\n",
      "C:\\Users\\Mauricio\\Anaconda3\\lib\\site-packages\\sklearn\\metrics\\classification.py:1135: UndefinedMetricWarning: F-score is ill-defined and being set to 0.0 in labels with no predicted samples.\n",
      "  'precision', 'predicted', average, warn_for)\n",
      "C:\\Users\\Mauricio\\Anaconda3\\lib\\site-packages\\sklearn\\metrics\\classification.py:1135: UndefinedMetricWarning: F-score is ill-defined and being set to 0.0 in labels with no predicted samples.\n",
      "  'precision', 'predicted', average, warn_for)\n",
      "C:\\Users\\Mauricio\\Anaconda3\\lib\\site-packages\\sklearn\\metrics\\classification.py:1135: UndefinedMetricWarning: F-score is ill-defined and being set to 0.0 in labels with no predicted samples.\n",
      "  'precision', 'predicted', average, warn_for)\n",
      "C:\\Users\\Mauricio\\Anaconda3\\lib\\site-packages\\sklearn\\metrics\\classification.py:1135: UndefinedMetricWarning: F-score is ill-defined and being set to 0.0 in labels with no predicted samples.\n",
      "  'precision', 'predicted', average, warn_for)\n",
      "C:\\Users\\Mauricio\\Anaconda3\\lib\\site-packages\\sklearn\\metrics\\classification.py:1135: UndefinedMetricWarning: F-score is ill-defined and being set to 0.0 in labels with no predicted samples.\n",
      "  'precision', 'predicted', average, warn_for)\n",
      "C:\\Users\\Mauricio\\Anaconda3\\lib\\site-packages\\sklearn\\metrics\\classification.py:1135: UndefinedMetricWarning: F-score is ill-defined and being set to 0.0 in labels with no predicted samples.\n",
      "  'precision', 'predicted', average, warn_for)\n",
      "C:\\Users\\Mauricio\\Anaconda3\\lib\\site-packages\\sklearn\\metrics\\classification.py:1135: UndefinedMetricWarning: F-score is ill-defined and being set to 0.0 in labels with no predicted samples.\n",
      "  'precision', 'predicted', average, warn_for)\n",
      "C:\\Users\\Mauricio\\Anaconda3\\lib\\site-packages\\sklearn\\metrics\\classification.py:1135: UndefinedMetricWarning: F-score is ill-defined and being set to 0.0 in labels with no predicted samples.\n",
      "  'precision', 'predicted', average, warn_for)\n",
      "C:\\Users\\Mauricio\\Anaconda3\\lib\\site-packages\\sklearn\\metrics\\classification.py:1135: UndefinedMetricWarning: F-score is ill-defined and being set to 0.0 in labels with no predicted samples.\n",
      "  'precision', 'predicted', average, warn_for)\n",
      "C:\\Users\\Mauricio\\Anaconda3\\lib\\site-packages\\sklearn\\metrics\\classification.py:1135: UndefinedMetricWarning: F-score is ill-defined and being set to 0.0 in labels with no predicted samples.\n",
      "  'precision', 'predicted', average, warn_for)\n",
      "C:\\Users\\Mauricio\\Anaconda3\\lib\\site-packages\\sklearn\\metrics\\classification.py:1135: UndefinedMetricWarning: F-score is ill-defined and being set to 0.0 in labels with no predicted samples.\n",
      "  'precision', 'predicted', average, warn_for)\n",
      "C:\\Users\\Mauricio\\Anaconda3\\lib\\site-packages\\sklearn\\metrics\\classification.py:1135: UndefinedMetricWarning: F-score is ill-defined and being set to 0.0 in labels with no predicted samples.\n",
      "  'precision', 'predicted', average, warn_for)\n",
      "C:\\Users\\Mauricio\\Anaconda3\\lib\\site-packages\\sklearn\\metrics\\classification.py:1135: UndefinedMetricWarning: F-score is ill-defined and being set to 0.0 in labels with no predicted samples.\n",
      "  'precision', 'predicted', average, warn_for)\n",
      "C:\\Users\\Mauricio\\Anaconda3\\lib\\site-packages\\sklearn\\metrics\\classification.py:1135: UndefinedMetricWarning: F-score is ill-defined and being set to 0.0 in labels with no predicted samples.\n",
      "  'precision', 'predicted', average, warn_for)\n",
      "C:\\Users\\Mauricio\\Anaconda3\\lib\\site-packages\\sklearn\\metrics\\classification.py:1135: UndefinedMetricWarning: F-score is ill-defined and being set to 0.0 in labels with no predicted samples.\n",
      "  'precision', 'predicted', average, warn_for)\n",
      "C:\\Users\\Mauricio\\Anaconda3\\lib\\site-packages\\sklearn\\metrics\\classification.py:1135: UndefinedMetricWarning: F-score is ill-defined and being set to 0.0 in labels with no predicted samples.\n",
      "  'precision', 'predicted', average, warn_for)\n",
      "C:\\Users\\Mauricio\\Anaconda3\\lib\\site-packages\\sklearn\\metrics\\classification.py:1135: UndefinedMetricWarning: F-score is ill-defined and being set to 0.0 in labels with no predicted samples.\n",
      "  'precision', 'predicted', average, warn_for)\n",
      "C:\\Users\\Mauricio\\Anaconda3\\lib\\site-packages\\sklearn\\metrics\\classification.py:1135: UndefinedMetricWarning: F-score is ill-defined and being set to 0.0 in labels with no predicted samples.\n",
      "  'precision', 'predicted', average, warn_for)\n",
      "C:\\Users\\Mauricio\\Anaconda3\\lib\\site-packages\\sklearn\\metrics\\classification.py:1135: UndefinedMetricWarning: F-score is ill-defined and being set to 0.0 in labels with no predicted samples.\n",
      "  'precision', 'predicted', average, warn_for)\n",
      "C:\\Users\\Mauricio\\Anaconda3\\lib\\site-packages\\sklearn\\metrics\\classification.py:1135: UndefinedMetricWarning: F-score is ill-defined and being set to 0.0 in labels with no predicted samples.\n",
      "  'precision', 'predicted', average, warn_for)\n",
      "C:\\Users\\Mauricio\\Anaconda3\\lib\\site-packages\\sklearn\\metrics\\classification.py:1135: UndefinedMetricWarning: F-score is ill-defined and being set to 0.0 in labels with no predicted samples.\n",
      "  'precision', 'predicted', average, warn_for)\n",
      "C:\\Users\\Mauricio\\Anaconda3\\lib\\site-packages\\sklearn\\metrics\\classification.py:1135: UndefinedMetricWarning: F-score is ill-defined and being set to 0.0 in labels with no predicted samples.\n",
      "  'precision', 'predicted', average, warn_for)\n",
      "C:\\Users\\Mauricio\\Anaconda3\\lib\\site-packages\\sklearn\\metrics\\classification.py:1135: UndefinedMetricWarning: F-score is ill-defined and being set to 0.0 in labels with no predicted samples.\n",
      "  'precision', 'predicted', average, warn_for)\n",
      "C:\\Users\\Mauricio\\Anaconda3\\lib\\site-packages\\sklearn\\metrics\\classification.py:1135: UndefinedMetricWarning: F-score is ill-defined and being set to 0.0 in labels with no predicted samples.\n",
      "  'precision', 'predicted', average, warn_for)\n",
      "C:\\Users\\Mauricio\\Anaconda3\\lib\\site-packages\\sklearn\\metrics\\classification.py:1135: UndefinedMetricWarning: F-score is ill-defined and being set to 0.0 in labels with no predicted samples.\n",
      "  'precision', 'predicted', average, warn_for)\n",
      "C:\\Users\\Mauricio\\Anaconda3\\lib\\site-packages\\sklearn\\metrics\\classification.py:1135: UndefinedMetricWarning: F-score is ill-defined and being set to 0.0 in labels with no predicted samples.\n",
      "  'precision', 'predicted', average, warn_for)\n",
      "C:\\Users\\Mauricio\\Anaconda3\\lib\\site-packages\\sklearn\\metrics\\classification.py:1135: UndefinedMetricWarning: F-score is ill-defined and being set to 0.0 in labels with no predicted samples.\n",
      "  'precision', 'predicted', average, warn_for)\n"
     ]
    },
    {
     "name": "stdout",
     "output_type": "stream",
     "text": [
      "Training Finished\n",
      "    accuracy   f1micro   f1macro       auc\n",
      "TR                                        \n",
      "0   0.993822  0.993822  0.498451  0.711909\n",
      "1   0.993919  0.993919  0.513290  0.678643\n",
      "2   0.993919  0.993919  0.513575  0.718272\n",
      "3   0.993919  0.993919  0.513575  0.682137\n",
      "4   0.993871  0.993871  0.513847  0.713716\n",
      "5   0.993822  0.993822  0.498451  0.717015\n",
      "6   0.993871  0.993871  0.506155  0.711128\n",
      "7   0.993871  0.993871  0.513278  0.712238\n",
      "8   0.993919  0.993919  0.513575  0.694273\n",
      "9   0.993871  0.993871  0.505870  0.696375\n"
     ]
    }
   ],
   "source": [
    "classifier = Classification(dir_, dir_, tr=gat2vec_config.training_ratio)\n",
    "\n",
    "auc_df = classifier.evaluate(model, label=False, evaluation_scheme=\"cv\")\n",
    "\n",
    "print(auc_df)"
   ]
  },
  {
   "cell_type": "markdown",
   "metadata": {},
   "source": [
    "## Print the probabilities "
   ]
  },
  {
   "cell_type": "code",
   "execution_count": 6,
   "metadata": {},
   "outputs": [
    {
     "name": "stderr",
     "output_type": "stream",
     "text": [
      "C:\\Users\\Mauricio\\Anaconda3\\lib\\site-packages\\GAT2VEC\\parsers.py:22: FutureWarning: Method .as_matrix will be removed in a future version. Use .values instead.\n",
      "  return df.as_matrix(columns=df.columns[0:])\n"
     ]
    },
    {
     "name": "stdout",
     "output_type": "stream",
     "text": [
      "0.7676368226085917\n",
      "              0         1\n",
      "0      0.990340  0.009660\n",
      "1      0.990346  0.009654\n",
      "2      0.990338  0.009662\n",
      "3      0.990337  0.009663\n",
      "4      0.990335  0.009665\n",
      "5      0.990337  0.009663\n",
      "6      0.990335  0.009665\n",
      "7      0.990333  0.009667\n",
      "8      0.990336  0.009664\n",
      "9      0.990339  0.009661\n",
      "10     0.990325  0.009675\n",
      "11     0.990337  0.009663\n",
      "12     0.990336  0.009664\n",
      "13     0.990330  0.009670\n",
      "14     0.990331  0.009669\n",
      "15     0.990326  0.009674\n",
      "16     0.990333  0.009667\n",
      "17     0.990342  0.009658\n",
      "18     0.990338  0.009662\n",
      "19     0.990323  0.009677\n",
      "20     0.990345  0.009655\n",
      "21     0.990337  0.009663\n",
      "22     0.990335  0.009665\n",
      "23     0.990331  0.009669\n",
      "24     0.990333  0.009667\n",
      "25     0.990335  0.009665\n",
      "26     0.990329  0.009671\n",
      "27     0.990338  0.009662\n",
      "28     0.990334  0.009666\n",
      "29     0.990326  0.009674\n",
      "...         ...       ...\n",
      "12037  0.990341  0.009659\n",
      "12038  0.990336  0.009664\n",
      "12039  0.990332  0.009668\n",
      "12040  0.990338  0.009662\n",
      "12041  0.990340  0.009660\n",
      "12042  0.990330  0.009670\n",
      "12043  0.990316  0.009684\n",
      "12044  0.990335  0.009665\n",
      "12045  0.990340  0.009660\n",
      "12046  0.990326  0.009674\n",
      "12047  0.990325  0.009675\n",
      "12048  0.990342  0.009658\n",
      "12049  0.990334  0.009666\n",
      "12050  0.990323  0.009677\n",
      "12051  0.990339  0.009661\n",
      "12052  0.990330  0.009670\n",
      "12053  0.990329  0.009671\n",
      "12054  0.990330  0.009670\n",
      "12055  0.990333  0.009667\n",
      "12056  0.990329  0.009671\n",
      "12057  0.990329  0.009671\n",
      "12058  0.990333  0.009667\n",
      "12059  0.990335  0.009665\n",
      "12060  0.990332  0.009668\n",
      "12061  0.990327  0.009673\n",
      "12062  0.990338  0.009662\n",
      "12063  0.990334  0.009666\n",
      "12064  0.990333  0.009667\n",
      "12065  0.990334  0.009666\n",
      "12066  0.990339  0.009661\n",
      "\n",
      "[12067 rows x 2 columns]\n"
     ]
    }
   ],
   "source": [
    "probs_df = pd.DataFrame(classifier.get_prediction_probs_for_entire_set(model))\n",
    "\n",
    "print(probs_df)"
   ]
  },
  {
   "cell_type": "code",
   "execution_count": null,
   "metadata": {},
   "outputs": [],
   "source": []
  },
  {
   "cell_type": "code",
   "execution_count": null,
   "metadata": {},
   "outputs": [],
   "source": []
  }
 ],
 "metadata": {
  "kernelspec": {
   "display_name": "Python 3",
   "language": "python",
   "name": "python3"
  },
  "language_info": {
   "codemirror_mode": {
    "name": "ipython",
    "version": 3
   },
   "file_extension": ".py",
   "mimetype": "text/x-python",
   "name": "python",
   "nbconvert_exporter": "python",
   "pygments_lexer": "ipython3",
   "version": "3.6.6"
  }
 },
 "nbformat": 4,
 "nbformat_minor": 2
}
