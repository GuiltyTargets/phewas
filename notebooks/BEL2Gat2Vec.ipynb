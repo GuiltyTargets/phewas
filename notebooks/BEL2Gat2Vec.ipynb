{
 "cells": [
  {
   "cell_type": "markdown",
   "metadata": {},
   "source": [
    "# Converting BEL graphs into inputs for GAT2VEC."
   ]
  },
  {
   "cell_type": "code",
   "execution_count": 3,
   "metadata": {},
   "outputs": [],
   "source": [
    "import os\n",
    "\n",
    "import bio2bel_phewascatalog\n",
    "from GAT2VEC import paths as gat2vec_paths\n",
    "import guilty_phewas.utils as phewas_utils\n",
    "from networkx import DiGraph, write_adjlist\n",
    "from networkx.relabel import convert_node_labels_to_integers\n",
    "from pybel import from_url, from_path\n",
    "from pybel.dsl import BaseEntity, gene, protein, rna\n",
    "from pybel.struct.mutation.collapse import collapse_to_genes, collapse_all_variants\n",
    "from pybel_tools.assembler.reified_graph import assembler"
   ]
  },
  {
   "cell_type": "code",
   "execution_count": 4,
   "metadata": {},
   "outputs": [],
   "source": [
    "basedir = 'C:/Users/Mauricio/Thesis/bel_data'\n",
    "tau_dict = {\n",
    "    'basedir': os.path.join(basedir, \"tau\"),\n",
    "    'url': 'https://raw.githubusercontent.com/neurommsig/neurommsig-knowledge' + \\\n",
    "           '/master/neurommsig_knowledge/Tau%20protein%20subgraph.bel',\n",
    "    'localfile': os.path.join(basedir, \"tau/Tau_subgraph.bel\"),\n",
    "    'struct_file': os.path.join(basedir, \"tau/tau_graph.adjlist\"),\n",
    "    'attr_file': os.path.join(basedir, \"tau/tau_na.adjlist\")\n",
    "}\n",
    "gsk3_dict = {\n",
    "    'basedir': os.path.join(basedir, \"alzh\"),\n",
    "    'url': 'https://raw.githubusercontent.com/neurommsig/neurommsig-knowledge/' + \\\n",
    "           'master/neurommsig_knowledge/GSK3%20subgraph.bel',\n",
    "    'localfile': os.path.join(basedir, \"alzh/alzheimers.bel\"),\n",
    "    'struct_file': os.path.join(basedir, \"alzh/alzh_graph.adjlist\"),\n",
    "    'attr_file': os.path.join(basedir, \"alzh/alzh_na.adjlist\")\n",
    "}\n",
    "param_dict = tau_dict"
   ]
  },
  {
   "cell_type": "code",
   "execution_count": 5,
   "metadata": {},
   "outputs": [],
   "source": [
    "basedir = param_dict['basedir']\n",
    "\n",
    "# possible inputs\n",
    "url = param_dict['url']\n",
    "local = param_dict['localfile']\n",
    "\n",
    "# Output files \n",
    "struct_file = param_dict['struct_file']\n",
    "attr_file = param_dict['attr_file']"
   ]
  },
  {
   "cell_type": "markdown",
   "metadata": {},
   "source": [
    "## Read and reify a BEL graph."
   ]
  },
  {
   "cell_type": "code",
   "execution_count": 6,
   "metadata": {},
   "outputs": [
    {
     "name": "stderr",
     "output_type": "stream",
     "text": [
      "C:/Users/Mauricio/Thesis/bel_data\\tau/Tau_subgraph.bel:0:0 MissingMetadataException Missing required document metadata: Authors\n",
      "C:/Users/Mauricio/Thesis/bel_data\\tau/Tau_subgraph.bel:0:0 MissingMetadataException Missing required document metadata: Description\n"
     ]
    },
    {
     "name": "stdout",
     "output_type": "stream",
     "text": [
      "Nodes before 284\n",
      "Edges before 836\n",
      "Nodes collapsed 230\n",
      "Edges collapsed 772\n"
     ]
    },
    {
     "name": "stderr",
     "output_type": "stream",
     "text": [
      "WARNING:root:No converter found for p(HGNC:MAPT), path(MESHD:\"Alzheimer Disease\")\n",
      "WARNING:root:  with edge data {'line': 774, 'relation': 'biomarkerFor', 'evidence': 'Our findings support the notion that CSF tau and Abeta(1-42) may be useful biomarkers in the early identification of AD in MCI subjects.', 'citation': {'type': 'PubMed', 'reference': '14699432'}, 'annotations': {'Confidence': {'High': True}, 'Disease': {\"Alzheimer's disease\": True}, 'MeSHAnatomy': {'Cerebrospinal Fluid': True}, 'Subgraph': {'Tau protein subgraph': True}}}\n",
      "WARNING:root:No converter found for rxn(reactants(p(HGNC:CDK5R1)), products(p(HBP:\"CDK5R1 p25\"))), p(HGNC:CDK5R1)\n",
      "WARNING:root:  with edge data {'relation': 'hasReactant'}\n",
      "WARNING:root:No converter found for rxn(reactants(p(HGNC:CDK5R1)), products(p(HBP:\"CDK5R1 p25\"))), p(HBP:\"CDK5R1 p25\")\n",
      "WARNING:root:  with edge data {'relation': 'hasProduct'}\n",
      "WARNING:root:No converter found for p(HGNC:CAMK2B), p(HGNC:MAPT)\n",
      "WARNING:root:  with edge data {'line': 434, 'relation': 'causesNoChange', 'evidence': ' Finally, CaM kinase II is present in neurons but not in glial cells, thus suggesting no role of CaM kinase II in tau phosphorylation of glial cells. These observations, together with previous results of in vitro studies, support the idea that several MAPK/ERK, SAPK/JNK, p38 and CaM kinase II may participate in tau phosphorylation in tauopathies', 'citation': {'type': 'PubMed', 'reference': '11810404'}, 'annotations': {'Confidence': {'High': True}, 'MeSHAnatomy': {'Microglia': True}, 'Subgraph': {'Tau protein subgraph': True}}}\n",
      "WARNING:root:No converter found for composite(p(HGNC:CAMK2A), p(HGNC:CAMK2B)), p(HGNC:CAMK2A)\n",
      "WARNING:root:  with edge data {'relation': 'hasComponent'}\n",
      "WARNING:root:No converter found for composite(p(HGNC:CAMK2A), p(HGNC:CAMK2B)), p(HGNC:CAMK2B)\n",
      "WARNING:root:  with edge data {'relation': 'hasComponent'}\n",
      "WARNING:root:No converter found for bp(GOBP:\"Wnt signaling pathway, planar cell polarity pathway\"), bp(GOBP:\"non-canonical Wnt signaling pathway\")\n",
      "WARNING:root:  with edge data {'line': 3685, 'relation': 'isA', 'evidence': 'To further elucidate how the clusterin-dependent induction of Dkk1 by Abeta mediates neurotoxicity, we measured the effects of Abeta and Dkk1 protein on whole-genome expression in primary neurons, finding a common pathway suggestive of activation of wnt–planar cell polarity (PCP)–c-Jun N-terminal kinase (JNK) signalling leading to the induction of genes including EGR1 (early growth response-1), NAB2 (Ngfi-A-binding protein-2) and KLF10 (Krüppel-like factor-10) that, when individually silenced, protected against Abeta neurotoxicity and/or tau phosphorylation. To summarise, we show that Ab-induced neurotoxicity, including tau phosphorylation at specific epitopes, is via the CLU-dependent induction of Dkk1, with Dkk1 then driving wnt–PCP signalling to increase expression of genes that we have identified and shown to be necessary mediators of these pathological processes.', 'citation': {'type': 'PubMed', 'reference': '23164821'}, 'annotations': {'Confidence': {'High': True}, 'Disease': {\"Alzheimer's disease\": True}, 'MeSHAnatomy': {'Neurons': True}, 'Subgraph': {'Tau protein subgraph': True, 'DKK1 subgraph': True, 'Gamma secretase subgraph': True}}}\n",
      "WARNING:root:No converter found for bp(GOBP:\"non-canonical Wnt signaling pathway\"), bp(GOBP:\"Wnt signaling pathway\")\n",
      "WARNING:root:  with edge data {'line': 3691, 'relation': 'isA', 'evidence': 'To further elucidate how the clusterin-dependent induction of Dkk1 by Abeta mediates neurotoxicity, we measured the effects of Abeta and Dkk1 protein on whole-genome expression in primary neurons, finding a common pathway suggestive of activation of wnt–planar cell polarity (PCP)–c-Jun N-terminal kinase (JNK) signalling leading to the induction of genes including EGR1 (early growth response-1), NAB2 (Ngfi-A-binding protein-2) and KLF10 (Krüppel-like factor-10) that, when individually silenced, protected against Abeta neurotoxicity and/or tau phosphorylation. To summarise, we show that Ab-induced neurotoxicity, including tau phosphorylation at specific epitopes, is via the CLU-dependent induction of Dkk1, with Dkk1 then driving wnt–PCP signalling to increase expression of genes that we have identified and shown to be necessary mediators of these pathological processes.', 'citation': {'type': 'PubMed', 'reference': '23164821'}, 'annotations': {'Confidence': {'High': True}, 'Disease': {\"Alzheimer's disease\": True}, 'MeSHAnatomy': {'Neurons': True}, 'Subgraph': {'Tau protein subgraph': True, 'DKK1 subgraph': True, 'Gamma secretase subgraph': True}}}\n"
     ]
    },
    {
     "name": "stdout",
     "output_type": "stream",
     "text": [
      "Nodes after 625\n",
      "Edges after 892\n"
     ]
    }
   ],
   "source": [
    "# graph = from_url(url)\n",
    "graph = from_path(local)\n",
    "\n",
    "print(\"Nodes before\", len(graph.nodes))\n",
    "print(\"Edges before\", len(graph.edges))\n",
    "\n",
    "# Collapse all variants is removing also the pmod(X) from the BaseEntity\n",
    "collapse_all_variants(graph)\n",
    "# TODO collapse_to_genes removes the ptm information before converting\n",
    "# collapse_to_genes(graph)\n",
    "\n",
    "print(\"Nodes collapsed\", len(graph.nodes))\n",
    "print(\"Edges collapsed\", len(graph.edges))\n",
    "\n",
    "# Reify the edges\n",
    "rbg = assembler.reify_bel_graph(graph)\n",
    "\n",
    "print(\"Nodes after\", len(rbg.nodes))\n",
    "print(\"Edges after\", len(rbg.edges))"
   ]
  },
  {
   "cell_type": "markdown",
   "metadata": {},
   "source": [
    "## Assess the converted entity and predicate nodes."
   ]
  },
  {
   "cell_type": "code",
   "execution_count": 7,
   "metadata": {},
   "outputs": [
    {
     "name": "stdout",
     "output_type": "stream",
     "text": [
      "Predicates\n",
      "{'abundance': 374, 'activates': 18, 'hasComponent': 45, 'translates': 3, 'degradates': 6}\n",
      "Proteins 97\n",
      "RNA      1\n"
     ]
    }
   ],
   "source": [
    "qty_predicate = {}\n",
    "qty_prot, qty_rna = 0, 0\n",
    "for i in rbg.nodes:\n",
    "    if isinstance(i, BaseEntity):\n",
    "        if isinstance(i, rna):\n",
    "            qty_rna += 1\n",
    "        elif isinstance(i, protein):\n",
    "            qty_prot += 1\n",
    "    else:\n",
    "        if rbg.nodes[i]['label'] in qty_predicate:\n",
    "            qty_predicate[rbg.nodes[i]['label']] += 1\n",
    "        else:\n",
    "            qty_predicate[rbg.nodes[i]['label']] = 1\n",
    "\n",
    "print(\"Predicates\")\n",
    "print(qty_predicate)\n",
    "\n",
    "print(f\"Proteins {qty_prot}\")\n",
    "print(f\"RNA      {qty_rna}\")"
   ]
  },
  {
   "cell_type": "markdown",
   "metadata": {},
   "source": [
    "## Adding PheWAS annotation (as graph) -- Skipping it for now.\n",
    "\n",
    "phewas_manager = bio2bel_phewascatalog.Manager()\n",
    "pw_dict = phewas_manager.to_dict()\n",
    "\n",
    "file = \"/home/mau/Uni/Thesis/Phewas-catalog/phewas/phewas-catalog.csv\"\n",
    "attr_rbg = DiGraph()\n",
    "\n",
    "for node in rbg.nodes:\n",
    "    if ((isinstance(node, protein) or\n",
    "         isinstance(node, rna)) and\n",
    "            node['name'] in pw_dict):\n",
    "        for odds, phtype in pw_dict[node['name']]:\n",
    "            if phtype:\n",
    "                attr_rbg.add_edge(node, phtype, label=odds)\n",
    "\n",
    "print(\"before phewas\", len(rbg.nodes))\n",
    "print(\"after phewas\", len(attr_rbg.nodes))"
   ]
  },
  {
   "cell_type": "markdown",
   "metadata": {},
   "source": [
    "## Adding PheWAS annotation (as attributes)."
   ]
  },
  {
   "cell_type": "code",
   "execution_count": 8,
   "metadata": {},
   "outputs": [
    {
     "name": "stderr",
     "output_type": "stream",
     "text": [
      "PheWAS Catalog - generating Dict: 100%|██████████████████████████████████████| 215107/215107 [00:23<00:00, 9191.99it/s]\n"
     ]
    }
   ],
   "source": [
    "phewas_manager = bio2bel_phewascatalog.Manager()\n",
    "pw_dict = phewas_manager.to_dict()"
   ]
  },
  {
   "cell_type": "code",
   "execution_count": 19,
   "metadata": {},
   "outputs": [
    {
     "data": {
      "text/plain": [
       "1354"
      ]
     },
     "execution_count": 19,
     "metadata": {},
     "output_type": "execute_result"
    }
   ],
   "source": [
    "# TODO put the phewas as an attribute (like GT)\n",
    "\n",
    "# TODO Generate disease hashing (like GT)\n",
    "\n",
    "start_ind = len(rbg.nodes)\n",
    "phenotypes_list = set([phe for _list in pw_dict.values()\n",
    "                           for odds, phe in _list])\n",
    "# unique_phenotypes = set().union(*pw_dict.values())\n",
    "enum_phenotypes = enumerate(phenotypes_list, start=start_ind+1)\n",
    "att_mappings = {phenot: num for num, phenot in enum_phenotypes}\n",
    "len(att_mappings)"
   ]
  },
  {
   "cell_type": "code",
   "execution_count": 20,
   "metadata": {},
   "outputs": [],
   "source": [
    "# create python file\n",
    "def add_disease_attribute(graph, att_mappings):\n",
    "    \"\"\"Add the phenotypes to the Base Entities as attributes.\"\"\"\n",
    "    for node in graph.nodes:\n",
    "        if ((isinstance(node, protein) or\n",
    "             isinstance(node, rna) or\n",
    "             isinstance(node, gene)) and\n",
    "               node.name in att_mappings):\n",
    "            graph.nodes[node]['phenotypes'] = [phtype for _, phtype in att_mappings[node.name]]\n",
    "    \n",
    "def write_adj_file_attribute(graph, filepath: str):\n",
    "    \"\"\"Write an adjacency file from the attribute graph.\"\"\"\n",
    "    with open(filepath, 'w') as f:\n",
    "        for node in graph.nodes:\n",
    "            if 'phenotypes' in graph.nodes[node]:  # \"There are diseases in the node\":\n",
    "                print(f\"{node} {' '.join(str(att_mappings[phe]) for phe in graph.nodes[node]['phenotypes'])}\", file=f)"
   ]
  },
  {
   "cell_type": "code",
   "execution_count": 21,
   "metadata": {},
   "outputs": [],
   "source": [
    "annotated_graph = rbg.copy()\n",
    "phewas_utils.add_disease_attribute(annotated_graph, pw_dict)\n",
    "\"\"\"for node in annotated_graph.nodes:\n",
    "    if 'phenotypes' in annotated_graph.nodes[node]:\n",
    "        print(annotated_graph.nodes[node]['phenotypes'], node.name)\n",
    "        break\"\"\";\n"
   ]
  },
  {
   "cell_type": "markdown",
   "metadata": {},
   "source": [
    "## Write adjacency list to file for GAT2VEC"
   ]
  },
  {
   "cell_type": "code",
   "execution_count": 22,
   "metadata": {},
   "outputs": [
    {
     "name": "stdout",
     "output_type": "stream",
     "text": [
      "[('HLA-DQB1', 726), ('CDKN2B-AS1', 910), ('HLA-DRA', 539)]\n"
     ]
    }
   ],
   "source": [
    "# Structure graph\n",
    "\n",
    "out_rbg = convert_node_labels_to_integers(test, first_label=1, label_attribute='old_label')\n",
    "write_adjlist(out_rbg, struct_file)\n",
    "\n",
    "phewas_utils.write_adj_file_attribute(out_rbg, attr_file, att_mappings)\n",
    "\n",
    "# Attribute graph\n",
    "# out_rbg = convert_node_labels_to_integers(test, first_label=1,label_attribute='old_label')\n",
    "# write_adjlist(out_rbg, attr_file)"
   ]
  },
  {
   "cell_type": "code",
   "execution_count": null,
   "metadata": {},
   "outputs": [],
   "source": []
  }
 ],
 "metadata": {
  "kernelspec": {
   "display_name": "Python 3",
   "language": "python",
   "name": "python3"
  },
  "language_info": {
   "codemirror_mode": {
    "name": "ipython",
    "version": 3
   },
   "file_extension": ".py",
   "mimetype": "text/x-python",
   "name": "python",
   "nbconvert_exporter": "python",
   "pygments_lexer": "ipython3",
   "version": "3.6.6"
  }
 },
 "nbformat": 4,
 "nbformat_minor": 2
}
